{
 "cells": [
  {
   "cell_type": "code",
   "execution_count": null,
   "metadata": {},
   "outputs": [],
   "source": [
    "user_input = input(\"Enter your name: \")\n",
    "user_input2 = input(\"Enter your age: \")\n",
    "\n",
    "dogYears = 0\n",
    "user_input2 -= 1\n",
    "dogYears += 15\n",
    "\n",
    "if(user_input2 > 0):\n",
    "    user_input2 -= 1\n",
    "    dogYears +=9\n",
    "    while(user_input2 > 0)"
   ]
  }
 ],
 "metadata": {
  "kernelspec": {
   "display_name": "Python 3",
   "language": "python",
   "name": "python3"
  },
  "language_info": {
   "codemirror_mode": {
    "name": "ipython",
    "version": 3
   },
   "file_extension": ".py",
   "mimetype": "text/x-python",
   "name": "python",
   "nbconvert_exporter": "python",
   "pygments_lexer": "ipython3",
   "version": "3.8.3"
  }
 },
 "nbformat": 4,
 "nbformat_minor": 4
}
