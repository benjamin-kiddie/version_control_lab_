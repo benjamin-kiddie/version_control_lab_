{
 "cells": [
  {
   "cell_type": "code",
   "execution_count": 1,
   "metadata": {},
   "outputs": [
    {
     "name": "stdin",
     "output_type": "stream",
     "text": [
      "Enter your name:  Ben\n",
      "Enter your age:  18\n"
     ]
    },
    {
     "name": "stdout",
     "output_type": "stream",
     "text": [
      "Hey, Ben! Did you know that you're 104 years old in dog years?\n"
     ]
    }
   ],
   "source": [
    "# getting name and age from user\n",
    "humanYears = 0\n",
    "name = input(\"Enter your name: \")\n",
    "while( True ):\n",
    "    humanYears = int(input(\"Enter your age: \"))\n",
    "    if( humanYears >= 1 ):\n",
    "        break\n",
    "    print( \"This is an invalid age. Try again.\" )\n",
    "\n",
    "# convert age to dog years\n",
    "dogYears = 15 # first year of a human life = 15 years for a dog\n",
    "humanYears -= 1\n",
    "if( humanYears > 0 ):\n",
    "    dogYears += 9 # second year of a human life = 9 years for a dog\n",
    "    humanYears -= 1\n",
    "    while( humanYears > 0 ):\n",
    "        dogYears += 5 # every year after 2 = 5 years for a dog\n",
    "        humanYears -= 1\n",
    "\n",
    "# report back to user\n",
    "print( \"Hey, \" + name + \"! Did you know that you're \" + str( dogYears ) + \" years old in dog years?\" )"
   ]
  },
  {
   "cell_type": "code",
   "execution_count": null,
   "metadata": {},
   "outputs": [],
   "source": []
  }
 ],
 "metadata": {
  "kernelspec": {
   "display_name": "Python 3 (ipykernel)",
   "language": "python",
   "name": "python3"
  },
  "language_info": {
   "codemirror_mode": {
    "name": "ipython",
    "version": 3
   },
   "file_extension": ".py",
   "mimetype": "text/x-python",
   "name": "python",
   "nbconvert_exporter": "python",
   "pygments_lexer": "ipython3",
   "version": "3.8.3"
  }
 },
 "nbformat": 4,
 "nbformat_minor": 4
}
